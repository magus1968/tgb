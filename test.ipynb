{
 "cells": [
  {
   "cell_type": "code",
   "execution_count": null,
   "id": "b6d410fe-4608-42a7-92a6-86c2cef7a9ca",
   "metadata": {},
   "outputs": [
    {
     "data": {
      "text/plain": [
       "['TestTest']"
      ]
     },
     "execution_count": 1,
     "metadata": {},
     "output_type": "execute_result"
    }
   ],
   "source": [
    "# Тестирую в Jupyter 5.1.1. Аннотацию\n",
    "\n",
    "def say_something(number: int, word: str) -> str:\n",
    "\n",
    "    word = word.capitalize()\n",
    "    return [word * number]\n",
    "\n",
    "say_something(2, \"test\")\n"
   ]
  },
  {
   "cell_type": "code",
   "execution_count": null,
   "id": "426e1133-41b6-49ec-96c7-53e6d8b76954",
   "metadata": {},
   "outputs": [],
   "source": [
    "# Тестирую в Jupyter 5.1.6 Датаклассы\n",
    "\n",
    "from dataclasses import dataclass\n",
    "\n",
    "@dataclass\n",
    "class User:\n",
    "    user_id: int\n",
    "    name: str\n",
    "    age: int\n",
    "    email: str"
   ]
  },
  {
   "cell_type": "code",
   "execution_count": null,
   "id": "57820b54-574f-46fc-8d78-8facec0ca85f",
   "metadata": {},
   "outputs": [
    {
     "name": "stdout",
     "output_type": "stream",
     "text": [
      "Возраст пользователя Vasiliy - 23, а email - vasya_pupkin@pochta.ru\n"
     ]
    }
   ],
   "source": [
    "def get_user_info(user: User) -> str:\n",
    "    return f'Возраст пользователя {user.name} - {user.age}, ' \\\n",
    "           f'а email - {user.email}'\n",
    "\n",
    "\n",
    "user_1 = User(42, 'Vasiliy', 23, 'vasya_pupkin@pochta.ru')\n",
    "print(get_user_info(user_1))"
   ]
  }
 ],
 "metadata": {
  "kernelspec": {
   "display_name": "Python 3 (ipykernel)",
   "language": "python",
   "name": "python3"
  },
  "language_info": {
   "codemirror_mode": {
    "name": "ipython",
    "version": 3
   },
   "file_extension": ".py",
   "mimetype": "text/x-python",
   "name": "python",
   "nbconvert_exporter": "python",
   "pygments_lexer": "ipython3",
   "version": "3.12.11"
  }
 },
 "nbformat": 4,
 "nbformat_minor": 5
}
